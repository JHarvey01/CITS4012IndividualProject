{
 "cells": [
  {
   "cell_type": "markdown",
   "metadata": {
    "id": "YOsq3No1kRC-"
   },
   "source": [
    "# 2025 CITS4012 Individual Assignment\n",
    "*Make sure you change the file name with your student id.*"
   ]
  },
  {
   "cell_type": "markdown",
   "metadata": {
    "id": "THS1ppSwkgz4"
   },
   "source": [
    "# Readme\n",
    "*If there is something to be noted for the marker, please mention here.*\n",
    "\n",
    "*If you are planning to implement a program with Object Oriented Programming style, please put those the bottom of this ipynb file*"
   ]
  },
  {
   "cell_type": "code",
   "execution_count": 1,
   "metadata": {},
   "outputs": [
    {
     "name": "stderr",
     "output_type": "stream",
     "text": [
      "[nltk_data] Downloading package punkt to /home/jharvey/nltk_data...\n",
      "[nltk_data]   Package punkt is already up-to-date!\n",
      "[nltk_data] Downloading package punkt_tab to\n",
      "[nltk_data]     /home/jharvey/nltk_data...\n",
      "[nltk_data]   Package punkt_tab is already up-to-date!\n"
     ]
    }
   ],
   "source": [
    "import numpy as np\n",
    "import re\n",
    "import nltk\n",
    "nltk.download('punkt')\n",
    "nltk.download('punkt_tab')\n",
    "from nltk.tokenize import word_tokenize, sent_tokenize"
   ]
  },
  {
   "cell_type": "markdown",
   "metadata": {
    "id": "3tgj4JarkjAY"
   },
   "source": [
    "# 1.Dataset Processing\n",
    "(You can add as many code blocks and text blocks as you need. However, YOU SHOULD NOT MODIFY the section title)"
   ]
  },
  {
   "cell_type": "code",
   "execution_count": 2,
   "metadata": {},
   "outputs": [],
   "source": [
    "def remove_punc(text):\n",
    "    \"\"\"Remove punctuation and make lowercase.\"\"\"\n",
    "    normalized_text = []\n",
    "    for string in text:\n",
    "        tokens = re.sub(r\"[^a-z0-9]+\", \" \", string.lower())\n",
    "        normalized_text.append(tokens)\n",
    "    return ''.join(normalized_text)"
   ]
  },
  {
   "cell_type": "markdown",
   "metadata": {},
   "source": [
    "*Note: Decided not to structure by sentence for now.*"
   ]
  },
  {
   "cell_type": "code",
   "execution_count": null,
   "metadata": {},
   "outputs": [
    {
     "name": "stdout",
     "output_type": "stream",
     "text": [
      "[['3'\n",
      "  list(['obstructive', 'sleep', 'apnea', 'following', 'topical', 'oropharyngeal', 'anesthesia', 'in', 'loud', 'snorers', 'previous', 'studies', 'support', 'the', 'presence', 'of', 'an', 'upper', 'airway', 'reflex', 'mechanism', 'that', 'contributes', 'to', 'the', 'maintenance', 'of', 'upper', 'airway', 'patency', 'during', 'sleep', 'we', 'investigated', 'the', 'possibility', 'that', 'interference', 'with', 'this', 'reflex', 'mechanism', 'contributes', 'to', 'the', 'development', 'of', 'obstructive', 'sleep', 'apnea', 'eight', 'otherwise', 'asymptomatic', 'snorers', 'seven', 'male', 'and', 'one', 'female', 'age', '39', '5', '3', 'yr', 'mean', 'sem', 'underwent', 'overnight', 'sleep', 'studies', 'on', 'three', 'successive', 'nights', 'an', 'acclimatization', 'night', 'was', 'followed', 'by', 'two', 'study', 'nights', 'randomly', 'assigned', 'to', 'control', 'c', 'and', 'oropharyngeal', 'anesthesia', 'opa', 'on', 'the', 'opa', 'night', 'topical', 'anesthesia', 'was', 'induced', 'using', '10', 'lidocaine', 'spray', 'and', '0', '25', 'bupivacaine', 'gargle', 'a', 'saline', 'placebo', 'was', 'used', 'on', 'night', 'c', 'all', 'subjects', 'slept', 'well', 'on', 'both', 'study', 'nights', 'mean', 'sleep', 'duration', 'was', '6', '2', 'h', 'on', 'both', 'study', 'nights', 'and', 'sleep', 'stage', 'distribution', 'was', 'similar', 'on', 'both', 'nights', 'obstructive', 'apneas', 'and', 'hypopneas', 'oah', 'rose', 'from', '114', '43', 'during', 'c', 'to', '170', '49', 'during', 'opa', 'p', 'less', 'than', '0', '02', 'central', 'apneas', 'and', 'hypopneas', 'cah', 'were', 'unchanged', 'between', 'the', 'two', 'nights', '8', '4', '9', 'versus', '7', '3', 'the', 'duration', 'of', 'oah', 'was', 'similar', 'on', 'both', 'study', 'nights', '20', '1', '9', 's', 'during', 'c', 'versus', '20', '1', '5', 's', 'during', 'opa', 'the', 'frequency', 'of', 'movement', 'arousals', 'terminating', 'oah', 'tended', 'to', 'be', 'higher', 'during', 'opa', '7', '2', '9', 'h', 'than', 'during', 'c', '3', '0', '7', 'p', 'ns', 'the', 'frequency', 'of', 'oxyhemoglobin', 'desaturations', 'was', 'also', 'higher', 'during', 'opa', '5', '2', '1', 'h', 'than', 'during', 'c', '3', '1', '4', 'p', 'less', 'than', '0', '07'])]\n",
      " ['5'\n",
      "  list(['neutrophil', 'function', 'and', 'pyogenic', 'infections', 'in', 'bone', 'marrow', 'transplant', 'recipients', 'in', 'a', 'consecutive', 'entry', 'trial', 'the', 'incidence', 'and', 'time', 'course', 'of', 'decreased', 'neutrophil', 'function', 'was', 'assessed', 'in', '20', 'patients', 'treated', 'with', 'allogeneic', 'bone', 'marrow', 'transplantation', 'bmt', 'the', 'aim', 'of', 'the', 'study', 'was', 'to', 'assess', 'the', 'prognostic', 'value', 'of', 'low', 'neutrophil', 'function', 'for', 'late', 'pyogenic', 'infections', 'chemotaxis', 'superoxide', 'production', 'and', 'phagocytic', 'bactericidal', 'activity', 'were', 'studied', 'before', 'and', '2', '6', '9', 'and', '12', 'months', 'after', 'bmt', 'skin', 'window', 'migration', 'was', 'quantitatively', 'assessed', '2', 'months', 'after', 'bmt', 'infectious', 'complications', 'were', 'recorded', 'prospectively', 'with', 'preset', 'criteria', 'during', '1', 'year', 'six', 'of', 'the', '20', 'leukemic', 'patients', 'had', 'defective', 'neutrophil', 'function', 'before', 'bmt', 'two', 'months', 'after', 'bmt', 'all', '10', 'patients', 'with', 'greater', 'than', 'stage', 'ii', 'graft', 'versus', 'host', 'disease', 'gvhd', 'and', '6', 'of', '10', 'patients', 'with', 'less', 'than', 'or', 'equal', 'to', 'stage', 'ii', 'gvhd', 'had', 'at', 'least', 'one', 'decreased', 'function', 'at', 'this', 'time', 'patients', 'with', 'subsequent', 'pyogenic', 'infections', 'had', 'lower', 'chemotaxis', 'p', 'less', 'than', '05', 'phagocytic', 'bactericidal', 'activity', 'p', 'less', 'than', '005', 'and', 'superoxide', 'production', 'p', 'less', 'than', '025', 'than', 'those', 'without', 'defective', 'skin', 'window', 'migration', 'and', 'combined', 'defects', 'were', 'predictive', 'for', 'late', 'pyogenic', 'infections', 'at', '9', 'months', 'all', 'tests', 'were', 'normal', 'in', 'seven', 'patients', 'surviving', 'without', 'gvhd', 'in', 'contrast', 'at', '9', 'months', 'three', 'of', 'three', 'patients', 'and', 'at', '1', 'year', 'two', 'of', 'three', 'with', 'chronic', 'gvhd', 'had', 'still', 'decreased', 'neutrophil', 'function', 'in', 'conclusion', 'neutrophil', 'function', 'is', 'frequently', 'impaired', 'during', 'the', 'first', 'months', 'after', 'bmt', 'combined', 'neutrophil', 'defects', 'predispose', 'to', 'pyogenic', 'infections', 'and', 'indicate', 'the', 'patient', 'at', 'risk'])]\n",
      " ['5'\n",
      "  list(['a', 'phase', 'ii', 'study', 'of', 'combined', 'methotrexate', 'and', 'teniposide', 'infusions', 'prior', 'to', 'reinduction', 'therapy', 'in', 'relapsed', 'childhood', 'acute', 'lymphoblastic', 'leukemia', 'a', 'pediatric', 'oncology', 'group', 'study', 'teniposide', 'vm', '26', 'can', 'increase', 'intracellular', 'methotrexate', 'mtx', 'and', 'its', 'polyglutamate', 'derivatives', 'in', 'vitro', 'and', 'thus', 'has', 'the', 'potential', 'to', 'improve', 'the', 'therapeutic', 'index', 'of', 'regimens', 'containing', 'mtx', 'in', 'this', 'phase', 'ii', 'study', 'children', 'and', 'adolescents', 'with', 'acute', 'lymphoblastic', 'leukemia', 'all', 'in', 'first', 'or', 'second', 'marrow', 'relapse', 'were', 'randomly', 'assigned', 'to', 'receive', 'either', 'simultaneous', 'n', '11', 'or', 'sequential', 'n', '12', 'continuous', 'infusions', 'of', 'mtx', 'and', 'vm', '26', 'prior', 'to', 'reinduction', 'infusions', 'of', 'vm', '26', 'were', 'begun', '12', 'hours', 'after', 'completion', 'of', 'mtx', 'infusion', 'in', 'the', 'sequential', 'group', 'dosages', 'were', 'individually', 'adjusted', 'to', 'maintain', 'plasma', 'concentration', 'levels', 'of', '10', 'microns', 'for', 'mtx', 'and', '15', 'microns', 'for', 'vm', '26', 'total', 'infusion', 'times', 'were', '24', 'and', '72', 'hours', 'respectively', 'significant', 'toxicity', 'in', 'the', 'first', 'six', 'patients', 'who', 'received', 'the', 'scheduled', '72', 'hour', 'vm', '26', 'infusion', 'including', 'one', 'drug', 'related', 'death', 'prompted', 'a', '50', 'reduction', 'in', 'infusion', 'duration', 'the', 'reduced', 'dose', 'was', 'associated', 'with', 'similar', 'but', 'more', 'manageable', 'toxicity', 'examination', 'of', 'bone', 'marrow', 'aspirates', '10', 'days', 'after', 'therapy', 'was', 'begun', 'showed', 'one', 'complete', 'and', 'two', 'partial', 'marrow', 'remissions', 'a', 'fourth', 'patient', 'who', 'had', 'an', 'aplastic', 'marrow', 'on', 'day', '10', 'received', 'no', 'further', 'chemotherapy', 'and', 'had', 'a', 'complete', 'remission', 'cr', 'documented', 'on', 'day', '31', 'there', 'was', 'no', 'obvious', 'clinical', 'advantage', 'associated', 'with', 'either', 'infusion', 'schedule', 'although', 'small', 'sample', 'sizes', 'preclude', 'definitive', 'conclusions', 'the', '17', 'response', 'rate', 'to', 'the', 'mtx', 'vm', '26', 'therapeutic', 'window', 'in', 'patients', 'with', 'refractory', 'disease', 'suggests', 'the', 'need', 'for', 'further', 'investigation', 'to', 'evaluate', 'alternative', 'schedules', 'and', 'concomitant', 'therapy', 'for', 'this', 'drug', 'combination'])]]\n"
     ]
    }
   ],
   "source": [
    "# TODO: Import data\n",
    "with open('medical_tc_train.csv', 'r') as f:\n",
    "    f = f.readlines()\n",
    "    for index, line in enumerate(f):\n",
    "        text_start = line.index(',')+1\n",
    "        f[index] = line[:text_start] + remove_punc(line[text_start:])\n",
    "    data = np.genfromtxt(f, delimiter=',', dtype=str, skip_header=1)\n",
    "data = data.astype(object)\n",
    "data[:,1] = [word_tokenize(text) for text in data[:,1]]\n",
    "print(data[:3])"
   ]
  },
  {
   "cell_type": "markdown",
   "metadata": {
    "id": "zDxZSK20klWr"
   },
   "source": [
    "# 2.Word Embedding Construction\n",
    "(You can add as many code blocks and text blocks as you need. However, YOU SHOULD NOT MODIFY the section title)"
   ]
  },
  {
   "cell_type": "code",
   "execution_count": null,
   "metadata": {
    "id": "fleoeIBDkr5i"
   },
   "outputs": [],
   "source": [
    "from gensim.models import Word2Vec\n",
    "\n",
    "w2v_sg = Word2Vec(sentences=data[:,1], vector_size=100, window=5, min_count=1, sg=1)"
   ]
  },
  {
   "cell_type": "code",
   "execution_count": 27,
   "metadata": {},
   "outputs": [
    {
     "name": "stdout",
     "output_type": "stream",
     "text": [
      "[('fibrosis', 0.857323944568634), ('portal', 0.8382132649421692), ('intrahepatic', 0.8303346037864685), ('mesenteric', 0.8224087357521057), ('causing', 0.8166835904121399), ('fulminant', 0.8086023926734924), ('kidney', 0.808034360408783), ('preexisting', 0.8070626854896545), ('microvascular', 0.8069862127304077), ('deep', 0.8061242699623108)]\n"
     ]
    }
   ],
   "source": [
    "similar_words = w2v_sg.wv.most_similar('hepatic', topn=10)\n",
    "print(similar_words)"
   ]
  },
  {
   "cell_type": "code",
   "execution_count": 28,
   "metadata": {},
   "outputs": [
    {
     "name": "stdout",
     "output_type": "stream",
     "text": [
      "Vocabulary size: 20297\n",
      "First 10 words in vocabulary: ['the', 'of', 'and', 'in', 'a', 'with', 'to', 'patients', 'was', 'were']\n"
     ]
    }
   ],
   "source": [
    "w2v_sg_vocab = w2v_sg.wv.key_to_index\n",
    "print(f'Vocabulary size: {len(w2v_sg_vocab)}')\n",
    "print(f'First 10 words in vocabulary: {list(w2v_sg_vocab)[:10]}')"
   ]
  },
  {
   "cell_type": "code",
   "execution_count": 29,
   "metadata": {},
   "outputs": [],
   "source": [
    "from gensim.models import keyedvectors\n",
    "\n",
    "pretrained_bwv = keyedvectors.KeyedVectors.load_word2vec_format('./bio_embedding_extrinsic', binary=True)"
   ]
  },
  {
   "cell_type": "code",
   "execution_count": 31,
   "metadata": {},
   "outputs": [
    {
     "name": "stdout",
     "output_type": "stream",
     "text": [
      "[('liver', 0.8543078899383545), ('sc-hepatic', 0.8127488493919373), ('post-hepatic', 0.803892970085144), ('ofhepatic', 0.8024373650550842), ('pre-hepatic', 0.7877070903778076), ('ahepatic', 0.7826353907585144), ('rat-hepatic', 0.7772555947303772), ('posthepatic', 0.776041567325592), ('extra-hepatic', 0.7705439329147339), ('steatosis', 0.7689445614814758)]\n",
      "Vocabulary size: 2324849\n",
      "First 10 words in vocabulary: ['the', 'of', 'and', 'in', 'to', 'a', 'with', 'for', 'was', 'were']\n"
     ]
    }
   ],
   "source": [
    "print(pretrained_bwv.most_similar('hepatic', topn=10))\n",
    "pretrained_bwv_vocab = pretrained_bwv.key_to_index\n",
    "print(f'Vocabulary size: {len(pretrained_bwv_vocab)}')\n",
    "print(f'First 10 words in vocabulary: {list(pretrained_bwv_vocab)[:10]}')"
   ]
  },
  {
   "cell_type": "markdown",
   "metadata": {
    "id": "kP-wrwk5ksfQ"
   },
   "source": [
    "# 3.Visualization\n",
    "(You can add as many code blocks and text blocks as you need. However, YOU SHOULD NOT MODIFY the section title)"
   ]
  },
  {
   "cell_type": "code",
   "execution_count": null,
   "metadata": {
    "id": "wgINzbHEkzbu"
   },
   "outputs": [],
   "source": []
  },
  {
   "cell_type": "markdown",
   "metadata": {
    "id": "XZJlo-z8k0ai"
   },
   "source": [
    "# 4.RNN-based Model Implementation\n",
    "(You can add as many code blocks and text blocks as you need. However, YOU SHOULD NOT MODIFY the section title)"
   ]
  },
  {
   "cell_type": "code",
   "execution_count": null,
   "metadata": {
    "id": "DRXewgTnk6sB"
   },
   "outputs": [],
   "source": []
  },
  {
   "cell_type": "markdown",
   "metadata": {
    "id": "6GU_rQZJk87q"
   },
   "source": [
    "# 5.Performance Evaluation\n",
    "(You can add as many code blocks and text blocks as you need. However, YOU SHOULD NOT MODIFY the section title)"
   ]
  },
  {
   "cell_type": "code",
   "execution_count": null,
   "metadata": {
    "id": "L11vnP-lk_ZH"
   },
   "outputs": [],
   "source": []
  },
  {
   "cell_type": "markdown",
   "metadata": {
    "id": "Zvj4_3Qak_x7"
   },
   "source": [
    "# 6.Interactive Inference Colab Form\n",
    "(You can add as many code blocks and text blocks as you need. However, YOU SHOULD NOT MODIFY the section title)"
   ]
  },
  {
   "cell_type": "code",
   "execution_count": null,
   "metadata": {
    "id": "SMJN1Dx1lES9"
   },
   "outputs": [],
   "source": []
  }
 ],
 "metadata": {
  "colab": {
   "authorship_tag": "ABX9TyOghbNMmpmnamV+Y3sNZIZK",
   "provenance": []
  },
  "kernelspec": {
   "display_name": ".venv",
   "language": "python",
   "name": "python3"
  },
  "language_info": {
   "codemirror_mode": {
    "name": "ipython",
    "version": 3
   },
   "file_extension": ".py",
   "mimetype": "text/x-python",
   "name": "python",
   "nbconvert_exporter": "python",
   "pygments_lexer": "ipython3",
   "version": "3.12.3"
  }
 },
 "nbformat": 4,
 "nbformat_minor": 0
}
